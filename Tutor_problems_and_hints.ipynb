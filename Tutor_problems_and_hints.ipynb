{
 "cells": [
  {
   "cell_type": "code",
   "execution_count": 1,
   "id": "2e33d8bf",
   "metadata": {},
   "outputs": [],
   "source": [
    "import pandas as pd\n",
    "import numpy as np\n",
    "import re\n",
    "import html2text"
   ]
  },
  {
   "cell_type": "code",
   "execution_count": 2,
   "id": "1296888e",
   "metadata": {},
   "outputs": [],
   "source": [
    "hints_df=pd.read_csv(\"./hintshints_202212301605.csv\")\n",
    "questions_df=pd.read_csv(\"./problemsproblems_202212301601.csv\")"
   ]
  },
  {
   "cell_type": "markdown",
   "id": "7fc4ab0f",
   "metadata": {},
   "source": [
    "# Helper functions"
   ]
  },
  {
   "cell_type": "markdown",
   "id": "30d7be96",
   "metadata": {},
   "source": [
    "## Text Processing\n",
    "\n",
    "#### 1) Handling Subscript and Superscript\n",
    "#### 2) how to handle symbols that can be represented in html\n",
    "#### 3) Remove new lines and trim whitespaces\n"
   ]
  },
  {
   "cell_type": "code",
   "execution_count": 34,
   "id": "2138d5a4",
   "metadata": {},
   "outputs": [],
   "source": [
    "def clean_texts(line):\n",
    "    #Handling subscripts\n",
    "    temp_line=re.sub('<sub.*?>','(',line)\n",
    "    temp_line=re.sub('<\\/sub.*?>',')',temp_line)\n",
    "    #Handlinf supscripts\n",
    "    temp_line=re.sub(r'<sup.*?>','^',temp_line)\n",
    "    temp_line=re.sub(r'<\\/sup.*?>','',temp_line)\n",
    "    #Coverting html to text\n",
    "    temp_line= html2text.html2text(temp_line)\n",
    "    #Removing new lines\n",
    "    temp_line=temp_line.replace(\"\\n\", \" \")\n",
    "    #Removing html tags\n",
    "    temp_line = re.sub(r'<.*?>', ' ', temp_line)\n",
    "    #Removing &nbsp\n",
    "    temp_line=re.sub(r'&nbsp;',' ',temp_line)\n",
    "    \n",
    "    #Removing whitespaces\n",
    "    temp_line=re.sub(r'\\s+',' ',temp_line)\n",
    "    return temp_line\n",
    "    \n",
    "def get_links(line): #Extracting hyperlinks\n",
    "    try:\n",
    "        return re.search(r'(http|ftp|https):\\/\\/([\\w_-]+(?:(?:\\.[\\w_-]+)+))([\\w.,@?^=%&:\\/~+#-]*[\\w@?^=%&\\/~+#-])',line).group()\n",
    "    except:\n",
    "        return 'no_link'"
   ]
  },
  {
   "cell_type": "code",
   "execution_count": 4,
   "id": "887c7084",
   "metadata": {},
   "outputs": [
    {
     "name": "stdout",
     "output_type": "stream",
     "text": [
      "id                   0\n",
      "name            578613\n",
      "body             20522\n",
      "scaffold_id    1780117\n",
      "position             0\n",
      "dtype: int64\n",
      "id                     0\n",
      "value                193\n",
      "position               0\n",
      "tutor_strategy_id      0\n",
      "dtype: int64\n"
     ]
    }
   ],
   "source": [
    "print(questions_df.isna().sum())\n",
    "print(hints_df.isna().sum())"
   ]
  },
  {
   "cell_type": "code",
   "execution_count": 5,
   "id": "87f8db6f",
   "metadata": {},
   "outputs": [
    {
     "data": {
      "text/plain": [
       "'<p id=\"d.:v21\" class=\"MsoNormal\">&nbsp;<br id=\"r0fg\" /> <span id=\"d.:v23\" style=\"color: #3366ff;\"> </span><span id=\"d.:v22\" style=\"color: #3366ff;\">6 </span>is the <span id=\"d.:v23\" style=\"color: #3366ff;\">base</span>, and&nbsp;<span id=\"d.:v24\" style=\"color: red;\">2</span> is the <span id=\"d.:v25\" style=\"color: red;\">exponent</span>.<span id=\"d.:v26\">&nbsp; </span></p>\\n<p id=\"d.:v29\" class=\"MsoNormal\" style=\"text-align: center;\" align=\"center\"><span id=\"d.:v30\" style=\"color: #3366ff;\">&nbsp;&nbsp;&nbsp;&nbsp;&nbsp;&nbsp;&nbsp;&nbsp;&nbsp; <br id=\"i-g1\" /> </span></p>\\n<p id=\"d.:v29\" class=\"MsoNormal\" style=\"text-align: center;\"><span id=\"d.:v30\" style=\"color: #3366ff;\">6</span><sup id=\"d.:v31\"><span id=\"d.:v32\" style=\"color: red;\">2</span></sup></p>\\n<p id=\"d.:v34\" class=\"MsoNormal\" style=\"text-align: justify;\"><span id=\"d.:v35\" style=\"color: #3366ff;\">&nbsp;</span></p>\\n<p id=\"d.:v37\" class=\"MsoNormal\" style=\"text-align: justify;\">Right now, <span id=\"d.:v38\" style=\"color: #3366ff;\">6</span> is being raised to the power of <span id=\"d.:v39\" style=\"color: red;\">2</span>.</p>\\n<p id=\"d.:v40\" class=\"MsoNormal\">&nbsp;</p>'"
      ]
     },
     "execution_count": 5,
     "metadata": {},
     "output_type": "execute_result"
    }
   ],
   "source": [
    "hints_df['value'][0]"
   ]
  },
  {
   "cell_type": "markdown",
   "id": "14281f49",
   "metadata": {},
   "source": [
    "## Pre-processing hints_df and questions_df"
   ]
  },
  {
   "cell_type": "code",
   "execution_count": 6,
   "id": "bfc2c2c0",
   "metadata": {},
   "outputs": [],
   "source": [
    "# Extracting Hyper-links\n",
    "hints_df['hyperlinks']=hints_df['value'].apply(lambda x : get_links(x) if not pd.isnull(x) else x)\n",
    "questions_df['hyperlinks']=questions_df['body'].apply(lambda x : get_links(x) if not pd.isnull(x) else x)"
   ]
  },
  {
   "cell_type": "code",
   "execution_count": 35,
   "id": "f54bcbac",
   "metadata": {},
   "outputs": [],
   "source": [
    "# Removing html_tags\n",
    "hints_df['cleaned_value']=hints_df['value'].apply(lambda x : clean_texts(x) if not pd.isnull(x) else x)\n",
    "questions_df['cleaned_body']=questions_df['body'].apply(lambda x : clean_texts(x) if not pd.isnull(x) else x)"
   ]
  },
  {
   "cell_type": "code",
   "execution_count": 48,
   "id": "727fe0d8",
   "metadata": {},
   "outputs": [
    {
     "data": {
      "text/plain": [
       "'Page 364 #7 '"
      ]
     },
     "execution_count": 48,
     "metadata": {},
     "output_type": "execute_result"
    }
   ],
   "source": [
    "questions_df['cleaned_body'][3234]"
   ]
  },
  {
   "cell_type": "code",
   "execution_count": 5,
   "id": "ae68adeb",
   "metadata": {},
   "outputs": [],
   "source": [
    "correct_pah_df=pd.read_csv('problem-and-hints.csv')"
   ]
  },
  {
   "cell_type": "code",
   "execution_count": 14,
   "id": "cc6c860d",
   "metadata": {},
   "outputs": [
    {
     "data": {
      "text/plain": [
       "array(['<P><FONT color=#3366ff>Now we know that 3 spheres=24 pyramids.</FONT></P>\\r\\n<P><FONT color=#3366ff>Let us now convert cubes to pyramids.</FONT></P>\\r\\n<P>How many pyramids weigh the same as 5 cubes?</P>',\n",
       "       '<P mce_keep=\"true\">5*4=20.</P>\\r\\n<P mce_keep=\"true\">Thus 5 cubes is equivalent to 24 pyramids.</P>\\r\\n<P mce_keep=\"true\">Type in 20.</P>'],\n",
       "      dtype=object)"
      ]
     },
     "execution_count": 14,
     "metadata": {},
     "output_type": "execute_result"
    }
   ],
   "source": [
    "correct_pah_df.iloc[600].values"
   ]
  },
  {
   "cell_type": "code",
   "execution_count": null,
   "id": "83b6e8b1",
   "metadata": {},
   "outputs": [],
   "source": []
  }
 ],
 "metadata": {
  "kernelspec": {
   "display_name": "Python 3 (ipykernel)",
   "language": "python",
   "name": "python3"
  },
  "language_info": {
   "codemirror_mode": {
    "name": "ipython",
    "version": 3
   },
   "file_extension": ".py",
   "mimetype": "text/x-python",
   "name": "python",
   "nbconvert_exporter": "python",
   "pygments_lexer": "ipython3",
   "version": "3.10.6"
  }
 },
 "nbformat": 4,
 "nbformat_minor": 5
}
